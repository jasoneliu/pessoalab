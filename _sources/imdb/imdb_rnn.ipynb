{
 "cells": [
  {
   "cell_type": "markdown",
   "metadata": {},
   "source": [
    "# IMDb with Vanilla RNNs\n",
    "**7/14/2020**\n"
   ]
  },
  {
   "cell_type": "markdown",
   "metadata": {},
   "source": [
    "## IMDb Movie Review Dataset and Preprocessing"
   ]
  },
  {
   "cell_type": "markdown",
   "metadata": {},
   "source": [
    "The IMDb Movie Review Dataset contains 50,000 reviews, split 50/50 into positive and negative reviews. The goal is to create a model that can accurately predict the sentiment (positive or negative) of a given review."
   ]
  },
  {
   "cell_type": "code",
   "execution_count": 1,
   "metadata": {},
   "outputs": [],
   "source": [
    "import torch\n",
    "from torch import nn, optim\n",
    "from torchtext import data, datasets\n",
    "import torch.nn.functional as F\n",
    "import spacy\n",
    "from sklearn.model_selection import KFold\n",
    "\n",
    "import matplotlib.pyplot as plt\n",
    "from IPython.display import set_matplotlib_formats\n",
    "set_matplotlib_formats('png')\n",
    "import numpy as np\n",
    "import random\n",
    "import time\n",
    "import json\n",
    "from livelossplot import PlotLosses\n",
    "import warnings\n",
    "warnings.filterwarnings('ignore')"
   ]
  },
  {
   "cell_type": "markdown",
   "metadata": {},
   "source": [
    "In order for a review to become the input of a neural network, we need to preprocess the text. The first step is to tokenize the text, meaning to break up the text into individual units that are easily understood, such as words. The spacy tokenizer does this fairly well by splitting text by spaces and separating punctuation. The reviews also contain &lt;br /&gt; tags which need to be removed, which necessitates a custom tokenizer based on spacy."
   ]
  },
  {
   "cell_type": "code",
   "execution_count": 2,
   "metadata": {},
   "outputs": [],
   "source": [
    "def custom_tokenizer(text):\n",
    "    nlp = spacy.load('en_core_web_sm', disable = ['tagger', 'parser', 'ner', 'textcat', '...'])\n",
    "\n",
    "    prefixes = list(nlp.Defaults.prefixes)\n",
    "    prefixes.append('/>')\n",
    "    prefix_regex = spacy.util.compile_prefix_regex(tuple(prefixes))\n",
    "    nlp.tokenizer.prefix_search = prefix_regex.search\n",
    "\n",
    "    suffixes = list(nlp.Defaults.suffixes)\n",
    "    suffixes.append('<br')\n",
    "    suffix_regex = spacy.util.compile_suffix_regex(tuple(suffixes))\n",
    "    nlp.tokenizer.suffix_search = suffix_regex.search\n",
    "\n",
    "    return [token.text for token in nlp.tokenizer(text)]"
   ]
  },
  {
   "cell_type": "markdown",
   "metadata": {},
   "source": [
    "Using the custom tokenizer, we can load and process the entire IMDb dataset (text and labels) using torchtext fields. To make it easier to access the dataset without having to spend time tokenizing every time, we can save the processed data into a json file. "
   ]
  },
  {
   "cell_type": "code",
   "execution_count": null,
   "metadata": {},
   "outputs": [],
   "source": [
    "# set seed for reproducibility\n",
    "torch.manual_seed(0)\n",
    "torch.backends.cudnn.deterministic = True\n",
    "torch.backends.cudnn.benchmark = False\n",
    "\n",
    "# split and tokenize full dataset\n",
    "TEXT = data.Field(tokenize=custom_tokenizer, lower=True, stop_words=['<br','/>','<','br'])\n",
    "LABEL = data.LabelField(dtype=torch.float)\n",
    "imdb = datasets.IMDB('.data/imdb/aclImdb/*', TEXT, LABEL)\n",
    "\n",
    "# save dataset\n",
    "f = open('imdb.json', 'w')\n",
    "for review in imdb:\n",
    "    review_text = review.text.replace(\"\\'\", \"\\\"\")\n",
    "    f.write(f'{{\\\"label\\\": {LABEL.vocab.stoi[review.label]}, \\\"text\\\": {review_text}}}\\n')\n",
    "f.close()"
   ]
  },
  {
   "cell_type": "markdown",
   "metadata": {
    "tags": []
   },
   "source": [
    "Now we can easily load in the dataset. We also want to split the dataset into train/validation/test sets with sizes 60%/20%/20%."
   ]
  },
  {
   "cell_type": "code",
   "execution_count": 2,
   "metadata": {
    "tags": []
   },
   "outputs": [
    {
     "output_type": "stream",
     "name": "stdout",
     "text": "Training set size:   30000\nValidation set size: 10000\nTest set size:       10000\n"
    }
   ],
   "source": [
    "LABEL = data.LabelField(dtype=torch.float)\n",
    "TEXT = data.Field(include_lengths=True)\n",
    "imdb = data.TabularDataset(path='imdb.json', format='JSON', fields=({'label': ('label',LABEL), 'text': ('text',TEXT)}))\n",
    "train_set, temp = imdb.split(split_ratio=0.6, random_state=random.seed(0))\n",
    "val_set, test_set = temp.split(split_ratio=0.5, random_state=random.seed(0))\n",
    "\n",
    "print(f'Training set size:   {len(train_set)}')\n",
    "print(f'Validation set size: {len(val_set)}')\n",
    "print(f'Test set size:       {len(test_set)}')"
   ]
  },
  {
   "cell_type": "markdown",
   "metadata": {},
   "source": [
    "Let's take a look at one example review. For this dataset, a label of 0 is negative and 1 is positive."
   ]
  },
  {
   "cell_type": "code",
   "execution_count": 6,
   "metadata": {
    "tags": []
   },
   "outputs": [
    {
     "name": "stdout",
     "output_type": "stream",
     "text": [
      "\n",
      "Tokenized text: ['based', 'on', 'an', 'actual', 'story', ',', 'john', 'boorman', 'shows', 'the', 'struggle', 'of', 'an', 'american', 'doctor', ',', 'whose', 'husband', 'and', 'son', 'were', 'murdered', 'and', 'she', 'was', 'continually', 'plagued', 'with', 'her', 'loss', '.', 'a', 'holiday', 'to', 'burma', 'with', 'her', 'sister', 'seemed', 'like', 'a', 'good', 'idea', 'to', 'get', 'away', 'from', 'it', 'all', ',', 'but', 'when', 'her', 'passport', 'was', 'stolen', 'in', 'rangoon', ',', 'she', 'could', 'not', 'leave', 'the', 'country', 'with', 'her', 'sister', ',', 'and', 'was', 'forced', 'to', 'stay', 'back', 'until', 'she', 'could', 'get', 'i.d.', 'papers', 'from', 'the', 'american', 'embassy', '.', 'to', 'fill', 'in', 'a', 'day', 'before', 'she', 'could', 'fly', 'out', ',', 'she', 'took', 'a', 'trip', 'into', 'the', 'countryside', 'with', 'a', 'tour', 'guide', '.', '\"', 'i', 'tried', 'finding', 'something', 'in', 'those', 'stone', 'statues', ',', 'but', 'nothing', 'stirred', 'in', 'me', '.', 'i', 'was', 'stone', 'myself', '.', '\"', 'suddenly', 'all', 'hell', 'broke', 'loose', 'and', 'she', 'was', 'caught', 'in', 'a', 'political', 'revolt', '.', 'just', 'when', 'it', 'looked', 'like', 'she', 'had', 'escaped', 'and', 'safely', 'boarded', 'a', 'train', ',', 'she', 'saw', 'her', 'tour', 'guide', 'get', 'beaten', 'and', 'shot', '.', 'in', 'a', 'split', 'second', 'she', 'decided', 'to', 'jump', 'from', 'the', 'moving', 'train', 'and', 'try', 'to', 'rescue', 'him', ',', 'with', 'no', 'thought', 'of', 'herself', '.', 'continually', 'her', 'life', 'was', 'in', 'danger', '.', 'here', 'is', 'a', 'woman', 'who', 'demonstrated', 'spontaneous', ',', 'selfless', 'charity', ',', 'risking', 'her', 'life', 'to', 'save', 'another', '.', 'patricia', 'arquette', 'is', 'beautiful', ',', 'and', 'not', 'just', 'to', 'look', 'at', ';', 'she', 'has', 'a', 'beautiful', 'heart', '.', 'this', 'is', 'an', 'unforgettable', 'story', '.', '\"', 'we', 'are', 'taught', 'that', 'suffering', 'is', 'the', 'one', 'promise', 'that', 'life', 'always', 'keeps', '.', '\"']\n",
      "\n",
      "Label: 1\n"
     ]
    }
   ],
   "source": [
    "print(f'\\nTokenized text: {imdb[0].text}')\n",
    "print(f'\\nLabel: {imdb[0].label}')"
   ]
  },
  {
   "cell_type": "markdown",
   "metadata": {},
   "source": [
    "We can build a vocabulary of tokens from the training set. The most common vocab tokens are show below. Each token in the vocab is assigned to a unique index, which allows for each token to be represented as a one-hot vector, which has the same length as the vocab. All elements are set to 0 except for the element at the token's corresponding index, which is instead set to 1.\n",
    "\n",
    "By setting a maximum of 25,000 tokens, we can prevent the model from learning the sentiment of every single token. All other words are simply replaced with &lt;unk&gt;, which will be ignored by the model."
   ]
  },
  {
   "cell_type": "code",
   "execution_count": 4,
   "metadata": {
    "tags": []
   },
   "outputs": [
    {
     "output_type": "stream",
     "name": "stdout",
     "text": "[('the', 397969), ('.', 324479), (',', 324093), ('and', 192895), ('a', 191873), ('of', 172229), ('to', 160056), ('is', 128961), ('it', 113936), ('in', 111605), ('i', 104615), ('this', 89961), ('that', 86262), ('\"', 77757), (\"'s\", 72818), ('-', 61786), ('was', 59883), ('as', 54536), ('movie', 52881), ('for', 52036)]\n"
    }
   ],
   "source": [
    "TEXT.build_vocab(train_set, max_size = 25000, vectors = \"glove.6B.100d\", unk_init = torch.Tensor.normal_)\n",
    "LABEL.build_vocab(train_set)\n",
    "print(TEXT.vocab.freqs.most_common(20))"
   ]
  },
  {
   "cell_type": "markdown",
   "metadata": {},
   "source": [
    "We want to iterate through the data in batches for SGD. However, all sequences in a batch need to have the same length. This is accomplished by adding padding to the end of sequences, represented as &lt;pad&gt;. To minimize the amount of padding needed, we can use BucketIterators that sort the reviews by length and allow for batch iteration. "
   ]
  },
  {
   "cell_type": "code",
   "execution_count": 15,
   "metadata": {},
   "outputs": [],
   "source": [
    "device = torch.device('cuda' if torch.cuda.is_available() else 'cpu')\n",
    "train_itr, val_itr, test_itr = data.BucketIterator.splits((train_set, val_set, test_set), batch_size = 64, sort_key = lambda x: len(x.text), sort_within_batch = True, device = device)"
   ]
  },
  {
   "cell_type": "markdown",
   "metadata": {},
   "source": [
    "## Recurrent Neural Network\n",
    "We're going to use a simple, vanilla RNN for classification. RNNs have a hidden state that is determined by the previous hidden state, thus creating recurrence. This allows it to have a \"memory\".\n",
    "\n",
    "For classifying reviews, each time step inputs a single token formatted as a one-hot vector. The embedding layer converts this input to a dense embedding vector that no longer contains only 0 and 1. The RNN layer uses the embedding vector and previous hidden state to return an output and the current hidden state. The RNN output is passed to a fully connected linear output layer that allows for binary classification. The RNN model follows the tokens in sequential order, simulating how a human reads. \n",
    "\n",
    "To improve accuracy, padded sequences are packed so that the RNN doesn't learn from the padding tokens. The sequences are then repacked to continue passing data through the model.\n",
    "Dropout is also used in the embedding and hidden layers to randomly ignore/drop out nodes, which helps prevent overfitting."
   ]
  },
  {
   "cell_type": "code",
   "execution_count": 8,
   "metadata": {},
   "outputs": [],
   "source": [
    "class RNN(nn.Module):\n",
    "    def __init__(self, input_dim, embedding_dim, hidden_dim, output_dim, dropout):\n",
    "        super().__init__()\n",
    "        self.embedding_dim = embedding_dim\n",
    "        self.embedding = nn.Embedding(input_dim, embedding_dim)\n",
    "        self.rnn = nn.RNN(embedding_dim, hidden_dim)\n",
    "        self.fc = nn.Linear(hidden_dim, output_dim)\n",
    "        self.dropout = nn.Dropout(dropout)\n",
    "        \n",
    "    def forward(self, text, text_lengths):\n",
    "        embedded = self.dropout(self.embedding(text))\n",
    "        \n",
    "        # pack\n",
    "        packed_embedded = nn.utils.rnn.pack_padded_sequence(embedded, text_lengths)\n",
    "        packed_output, hidden = self.rnn(packed_embedded)\n",
    "        \n",
    "        # unpack\n",
    "        output, output_lengths = nn.utils.rnn.pad_packed_sequence(packed_output)\n",
    "        \n",
    "        hidden = self.dropout(hidden[-1,:,:])\n",
    "        return self.fc(hidden)"
   ]
  },
  {
   "cell_type": "markdown",
   "metadata": {},
   "source": [
    "Training and evaluation is nearly the same as for MLPs. The only difference is that each batch now needs to return sequence length along with the sequences so that the model can correctly pad and pack sequences. \n",
    "\n",
    "We define methods for accuracy, training, and evaluation of single batches, then combine them into a method to train and validate a model over multiple epochs, returning loss and accuracy as it trains."
   ]
  },
  {
   "cell_type": "code",
   "execution_count": 9,
   "metadata": {},
   "outputs": [],
   "source": [
    "def accuracy(outputs, labels):\n",
    "    rounded_outputs = torch.round(torch.sigmoid(outputs))\n",
    "    correct = (rounded_outputs == labels).float()\n",
    "    acc = correct.sum() / len(correct)\n",
    "    return acc\n",
    "\n",
    "\n",
    "\n",
    "def train(model, criterion, optimizer, iterator, device): \n",
    "    model.train()\n",
    "    model = model.to(device)\n",
    "    criterion = criterion.to(device)\n",
    "    \n",
    "    epoch_loss = 0.0\n",
    "    epoch_acc = 0.0\n",
    "    \n",
    "    for batch in train_itr:\n",
    "        \n",
    "        text, text_lengths = batch.text\n",
    "        outputs = model(text, text_lengths).squeeze(1)\n",
    "        loss = criterion(outputs, batch.label)\n",
    "        acc = accuracy(outputs, batch.label)\n",
    "        \n",
    "        optimizer.zero_grad()\n",
    "        loss.backward()\n",
    "        optimizer.step()\n",
    "        \n",
    "        epoch_loss += loss.item()\n",
    "        epoch_acc += acc.item()\n",
    "        \n",
    "    return epoch_loss/len(iterator), epoch_acc/len(iterator)\n",
    "\n",
    "\n",
    "\n",
    "def evaluate(model, criterion, iterator, device):\n",
    "    model.eval()\n",
    "    model = model.to(device)\n",
    "    criterion = criterion.to(device)\n",
    "    \n",
    "    epoch_loss = 0.0\n",
    "    epoch_acc = 0.0\n",
    "    \n",
    "    with torch.no_grad():\n",
    "        for batch in iterator:\n",
    "            \n",
    "            text, text_lengths = batch.text\n",
    "            predictions = model(text, text_lengths).squeeze(1)\n",
    "            loss = criterion(predictions, batch.label)\n",
    "            acc = accuracy(predictions, batch.label)\n",
    "            \n",
    "            epoch_loss += loss.item()\n",
    "            epoch_acc += acc.item()\n",
    "    \n",
    "    return epoch_loss/len(iterator), epoch_acc/len(iterator)\n",
    "\n",
    "\n",
    "\n",
    "def train_val_model(model, criterion, optimizer, num_epochs, path):\n",
    "    time_start = time.clock()\n",
    "    best_val_loss = float('inf')\n",
    "    device = torch.device('cuda:0' if torch.cuda.is_available() else 'cpu')\n",
    "    \n",
    "    liveloss = PlotLosses()\n",
    "    \n",
    "    for epoch in range(num_epochs):\n",
    "\n",
    "        logs = {}\n",
    "        train_loss, train_acc = train(model, criterion, optimizer, train_itr, device)\n",
    "        val_loss, val_acc = evaluate(model, criterion, val_itr, device)\n",
    "\n",
    "        if val_loss < best_val_loss:\n",
    "            best_val_loss = val_loss\n",
    "            torch.save(model, path)\n",
    "\n",
    "        logs['loss'] = train_loss\n",
    "        logs['acc'] = train_acc\n",
    "        logs['val_loss'] = val_loss\n",
    "        logs['val_acc'] = val_acc\n",
    "        \n",
    "        liveloss.update(logs)\n",
    "        liveloss.send()\n",
    "\n",
    "    print('Training time: %.3fs' % round(time.clock()-time_start,3))"
   ]
  },
  {
   "cell_type": "markdown",
   "metadata": {},
   "source": [
    "Let's define"
   ]
  },
  {
   "cell_type": "code",
   "execution_count": 11,
   "metadata": {},
   "outputs": [
    {
     "data": {
      "image/png": "[encoded data removed]",
      "text/plain": [
       "<Figure size 864x576 with 2 Axes>"
      ]
     },
     "metadata": {
      "needs_background": "light"
     },
     "output_type": "display_data"
    },
    {
     "name": "stdout",
     "output_type": "stream",
     "text": [
      "Accuracy\n",
      "\ttraining         \t (min:    0.510, max:    0.601, cur:    0.601)\n",
      "\tvalidation       \t (min:    0.518, max:    0.620, cur:    0.603)\n",
      "Loss\n",
      "\ttraining         \t (min:    0.665, max:    0.699, cur:    0.665)\n",
      "\tvalidation       \t (min:    0.648, max:    0.713, cur:    0.663)\n",
      "Training time: 175.879s\n"
     ]
    }
   ],
   "source": [
    "model = RNN(len(TEXT.vocab), 100, 256, 1, 0.5)\n",
    "criterion = nn.BCEWithLogitsLoss()\n",
    "optimizer = optim.SGD(model.parameters(), lr=0.01)\n",
    "num_epochs = 15\n",
    "path = 'imdb_rnn.pt'\n",
    "\n",
    "train_val_model(model, criterion, optimizer, num_epochs, path)"
   ]
  },
  {
   "cell_type": "markdown",
   "metadata": {},
   "source": [
    "Now let's see how the trained model performs on a test set it's never seen before."
   ]
  },
  {
   "cell_type": "code",
   "execution_count": 12,
   "metadata": {},
   "outputs": [
    {
     "name": "stdout",
     "output_type": "stream",
     "text": [
      "Test loss: 0.648\n",
      "Test accuracy: 61.69%\n"
     ]
    }
   ],
   "source": [
    "model = torch.load(path)\n",
    "test_loss, test_acc = evaluate(model, criterion, test_itr, device)\n",
    "\n",
    "print(f'Test loss: {test_loss:.3f}' )\n",
    "print(f'Test accuracy: {(test_acc*100):.2f}%')"
   ]
  },
  {
   "cell_type": "markdown",
   "metadata": {},
   "source": [
    "62% isn't a great accuracy since 50% is chance performance. We can improve the model by using pretrained word embeddings that are used to initialize the weights to the embedding layer instead of using random initialization. This change increases the model's rate of improvement and likelihood of finding a good local minimum or even global minimum for loss."
   ]
  },
  {
   "cell_type": "code",
   "execution_count": 18,
   "metadata": {
    "tags": []
   },
   "outputs": [
    {
     "data": {
      "image/png": "[encoded data removed]",
      "text/plain": [
       "<Figure size 864x576 with 2 Axes>"
      ]
     },
     "metadata": {
      "needs_background": "light"
     },
     "output_type": "display_data"
    },
    {
     "name": "stdout",
     "output_type": "stream",
     "text": [
      "Accuracy\n",
      "\ttraining         \t (min:    0.513, max:    0.625, cur:    0.592)\n",
      "\tvalidation       \t (min:    0.557, max:    0.724, cur:    0.688)\n",
      "Loss\n",
      "\ttraining         \t (min:    0.650, max:    0.695, cur:    0.663)\n",
      "\tvalidation       \t (min:    0.571, max:    0.687, cur:    0.588)\n",
      "Training time: 174.030s\n"
     ]
    }
   ],
   "source": [
    "model = RNN(len(TEXT.vocab), 100, 256, 1, 0.5)\n",
    "criterion = nn.BCEWithLogitsLoss()\n",
    "optimizer = optim.SGD(model.parameters(), lr=0.01)\n",
    "num_epochs = 15\n",
    "path = 'imdb_rnn.pt'\n",
    "\n",
    "model.embedding.weight.data.copy_(TEXT.vocab.vectors)\n",
    "model.embedding.weight.data[TEXT.vocab.stoi[TEXT.unk_token]] = torch.zeros(model.embedding_dim)\n",
    "model.embedding.weight.data[TEXT.vocab.stoi[TEXT.pad_token]] = torch.zeros(model.embedding_dim)\n",
    "\n",
    "train_val_model(model, criterion, optimizer, num_epochs, path)"
   ]
  },
  {
   "cell_type": "code",
   "execution_count": 19,
   "metadata": {},
   "outputs": [
    {
     "name": "stdout",
     "output_type": "stream",
     "text": [
      "Test loss: 0.574\n",
      "Test accuracy: 72.12%\n"
     ]
    }
   ],
   "source": [
    "model = torch.load(path)\n",
    "test_loss, test_acc = evaluate(model, criterion, test_itr, device)\n",
    "\n",
    "print(f'Test loss: {test_loss:.3f}' )\n",
    "print(f'Test accuracy: {(test_acc*100):.2f}%')"
   ]
  },
  {
   "cell_type": "markdown",
   "metadata": {},
   "source": [
    "72% accuracy is much better, but there's still room to improve. Better models such as LSTMs can be used to achieve higher accuracy, which we will explore in the next section."
   ]
  },
  {
   "cell_type": "markdown",
   "metadata": {},
   "source": [
    "## Nested Cross Validation"
   ]
  },
  {
   "cell_type": "markdown",
   "metadata": {},
   "source": [
    "Using a test/val/train split is already quite effective. However, it only creates one split that can possibly create unbalanced datasets due to a random split. Consequently, a single test accuracy may not be fully representative of the model's true accuracy.\n",
    "\n",
    "Nested cross validation is a solution to this problem. Instead of splitting the dataset once, k-fold CV splits the dataset into k equal parts known as folds. In the outer CV, one of these folds are used as a test set, while the other k-1 folds are used as a trainval set. Then in the inner CV, the trainval set is similarly split into k folds, one of which is used as a validation set while the rest are used as a training set. In the outer and inner CVs, all k folds are used as a training and validation set, respectively.\n",
    "\n",
    "In essence, the roles of each set remain the same, but apply to multiple folds instead of one. The validation set is used for hyperparameter optimization. In this case, optimization is done using a grid search, which finds the lowest mean loss across all k inner folds. Similarly, the test set is used to find the mean test loss and accuracy across all k outer folds."
   ]
  },
  {
   "cell_type": "code",
   "execution_count": 10,
   "metadata": {},
   "outputs": [],
   "source": [
    "def grid_search(model, train_set, train_itr, val_set, val_itr, criterion, num_epochs, lr_params, device):\n",
    "    val_losses = np.zeros(len(lr_params))\n",
    "\n",
    "    for i,lr in enumerate(lr_params):\n",
    "        if i==0:\n",
    "            print(f'lr = {lr} ... ', end='')\n",
    "        else:\n",
    "            print(f'                 lr = {lr} ... ', end='')\n",
    "        \n",
    "        optimizer = optim.SGD(model.parameters(), lr=lr)\n",
    "\n",
    "        for epoch in range(num_epochs):\n",
    "            train(model, criterion, optimizer, train_itr, device)\n",
    "        val_loss, val_acc = evaluate(model, criterion, val_itr, device)\n",
    "\n",
    "        val_losses[i] = val_loss\n",
    "        \n",
    "        print('Done.')\n",
    "\n",
    "    return val_losses"
   ]
  },
  {
   "cell_type": "code",
   "execution_count": 16,
   "metadata": {},
   "outputs": [],
   "source": [
    "def cross_validate(torch_dataset, outer_kfold, num_outer_epochs, inner_kfold, num_inner_epochs, criterion, batch_size, lr_params, device, nested):\n",
    "    time_start = time.clock()\n",
    "    final_loss = np.zeros(outer_kfold.n_splits)\n",
    "    final_acc = np.zeros(outer_kfold.n_splits)\n",
    "    \n",
    "    # Outer CV (trainval/test split)\n",
    "    current_outer_fold = 1\n",
    "    for trainval_index, test_index in outer_kfold.split(np.array(torch_dataset.examples)):\n",
    "\n",
    "        print(f'Outer Fold {current_outer_fold}/{outer_kfold.n_splits}:')\n",
    "\n",
    "        TEXT = data.Field(include_lengths=True)\n",
    "        LABEL = data.LabelField(dtype=torch.float)\n",
    "        fields = [('text',TEXT),('label',LABEL)]\n",
    "\n",
    "        torch_dataset_arr = np.array(torch_dataset.examples)\n",
    "        trainval_data = data.Dataset(torch_dataset_arr[trainval_index], fields=fields)\n",
    "        test_data = data.Dataset(torch_dataset_arr[test_index], fields=fields)\n",
    "        trainval_data_arr = np.array(trainval_data.examples)\n",
    "\n",
    "        \n",
    "        \n",
    "        # Inner CV (train/val split)\n",
    "        if (nested):\n",
    "            current_inner_fold = 1\n",
    "            total_val_loss = np.zeros(len(lr_params))\n",
    "            \n",
    "            for train_index, val_index in inner_kfold.split(trainval_data_arr):\n",
    "                \n",
    "                print(f'  Inner Fold {current_inner_fold}/{inner_kfold.n_splits}:')\n",
    "\n",
    "                inner_TEXT = data.Field(include_lengths=True)\n",
    "                inner_LABEL = data.LabelField(dtype=torch.float)\n",
    "                fields = [('text',inner_TEXT),('label',inner_LABEL)]\n",
    "                \n",
    "                train_data = data.Dataset(trainval_data_arr[train_index], fields=fields)\n",
    "                val_data = data.Dataset(trainval_data_arr[val_index], fields=fields)\n",
    "                train_itr = data.BucketIterator(train_data, batch_size, sort_key = lambda x: len(x.text), sort_within_batch = True, device=device)\n",
    "                val_itr = data.BucketIterator(val_data, batch_size, sort_key = lambda x: len(x.text), sort_within_batch = True, device=device)\n",
    "\n",
    "                inner_TEXT.build_vocab(train_data, max_size=25000, vectors = \"glove.6B.100d\", unk_init = torch.Tensor.normal_)\n",
    "                inner_LABEL.build_vocab(train_data)\n",
    "                \n",
    "                inner_model = RNN(len(inner_TEXT.vocab), 100, 256, 1, 0.5)\n",
    "                inner_model.embedding.weight.data.copy_(inner_TEXT.vocab.vectors)\n",
    "                inner_model.embedding.weight.data[inner_TEXT.vocab.stoi[inner_TEXT.unk_token]] = torch.zeros(inner_model.embedding_dim)\n",
    "                inner_model.embedding.weight.data[inner_TEXT.vocab.stoi[inner_TEXT.pad_token]] = torch.zeros(inner_model.embedding_dim)\n",
    "\n",
    "                print('    Grid Search: ',end='')\n",
    "                fold_val_loss = grid_search(inner_model, train_data, train_itr, val_data, val_itr, criterion, num_inner_epochs, lr_params, device)\n",
    "                total_val_loss = np.add(total_val_loss, fold_val_loss)\n",
    "                \n",
    "                current_inner_fold += 1\n",
    "\n",
    "            best_lr = lr_params[np.argmin(total_val_loss)]\n",
    "            print(f'  Best Learning Rate: lr = {best_lr}')\n",
    "\n",
    "        # Non-nested CV\n",
    "        else:\n",
    "            criterion = optim.SGD(model.parameters(), lr=0.01)\n",
    "    \n",
    "    \n",
    "    \n",
    "        trainval_itr = data.BucketIterator(trainval_data, batch_size, sort_key = lambda x: len(x.text), sort_within_batch = True, device=device)\n",
    "        test_itr = data.BucketIterator(test_data, batch_size, sort_key = lambda x: len(x.text), sort_within_batch = True, device=device)\n",
    "            \n",
    "        TEXT.build_vocab(trainval_data, max_size=25000, vectors = \"glove.6B.100d\", unk_init = torch.Tensor.normal_)\n",
    "        LABEL.build_vocab(trainval_data)\n",
    "        \n",
    "        model = RNN(len(TEXT.vocab), 100, 256, 1, 0.5)\n",
    "        model.embedding.weight.data.copy_(TEXT.vocab.vectors)\n",
    "        model.embedding.weight.data[TEXT.vocab.stoi[TEXT.unk_token]] = torch.zeros(model.embedding_dim)\n",
    "        model.embedding.weight.data[TEXT.vocab.stoi[TEXT.pad_token]] = torch.zeros(model.embedding_dim)\n",
    "        optimizer = optim.SGD(model.parameters(), lr=best_lr)\n",
    "\n",
    "        for epoch in range(num_outer_epochs):\n",
    "            trainval_loss, trainval_acc = train(model, criterion, optimizer, trainval_itr, device)\n",
    "            test_loss, test_acc = evaluate(model, criterion, test_itr, device)\n",
    "            print(f'  Epoch {epoch+1:02} | Train Loss: {trainval_loss:.3f} | Train Acc: {trainval_acc*100:.2f}% | Test Loss: {test_loss:.3f} | Test Acc: {test_acc*100:.2f}%')\n",
    "        print('')\n",
    "\n",
    "        final_loss[current_outer_fold-1] = test_loss\n",
    "        final_acc[current_outer_fold-1] = test_acc\n",
    "        current_outer_fold += 1\n",
    "\n",
    "    print(f'Mean Test Loss: {np.mean(final_loss):.3f}')\n",
    "    print(f'Mean Test Acc: {np.mean(final_acc)*100:.2f}%')\n",
    "    print('Training time: %.3fs' % round(time.clock()-time_start,3))"
   ]
  },
  {
   "cell_type": "code",
   "execution_count": 17,
   "metadata": {
    "tags": []
   },
   "outputs": [
    {
     "name": "stdout",
     "output_type": "stream",
     "text": [
      "Outer Fold 1/3:\n",
      "  Inner Fold 1/3:\n",
      "    Grid Search: lr = 0.01 ... Done.\n",
      "                 lr = 0.03 ... Done.\n",
      "                 lr = 0.1 ... Done.\n",
      "  Inner Fold 2/3:\n",
      "    Grid Search: lr = 0.01 ... Done.\n",
      "                 lr = 0.03 ... Done.\n",
      "                 lr = 0.1 ... Done.\n",
      "  Inner Fold 3/3:\n",
      "    Grid Search: lr = 0.01 ... Done.\n",
      "                 lr = 0.03 ... Done.\n",
      "                 lr = 0.1 ... Done.\n",
      "  Best Learning Rate: lr = 0.01\n",
      "  Epoch 01 | Train Loss: 0.626 | Train Acc: 45.68% | Test Loss: 0.691 | Test Acc: 51.66%\n",
      "  Epoch 02 | Train Loss: 0.623 | Train Acc: 46.80% | Test Loss: 0.690 | Test Acc: 52.88%\n",
      "  Epoch 03 | Train Loss: 0.621 | Train Acc: 47.77% | Test Loss: 0.690 | Test Acc: 53.37%\n",
      "  Epoch 04 | Train Loss: 0.620 | Train Acc: 47.91% | Test Loss: 0.689 | Test Acc: 53.47%\n",
      "  Epoch 05 | Train Loss: 0.620 | Train Acc: 48.28% | Test Loss: 0.689 | Test Acc: 53.54%\n",
      "  Epoch 06 | Train Loss: 0.618 | Train Acc: 48.72% | Test Loss: 0.689 | Test Acc: 53.84%\n",
      "  Epoch 07 | Train Loss: 0.618 | Train Acc: 48.83% | Test Loss: 0.688 | Test Acc: 54.19%\n",
      "  Epoch 08 | Train Loss: 0.617 | Train Acc: 49.33% | Test Loss: 0.687 | Test Acc: 54.55%\n",
      "  Epoch 09 | Train Loss: 0.615 | Train Acc: 49.69% | Test Loss: 0.687 | Test Acc: 54.98%\n",
      "  Epoch 10 | Train Loss: 0.614 | Train Acc: 50.14% | Test Loss: 0.683 | Test Acc: 55.44%\n",
      "  Epoch 11 | Train Loss: 0.611 | Train Acc: 50.76% | Test Loss: 0.683 | Test Acc: 56.53%\n",
      "  Epoch 12 | Train Loss: 0.606 | Train Acc: 52.55% | Test Loss: 0.682 | Test Acc: 58.52%\n",
      "  Epoch 13 | Train Loss: 0.605 | Train Acc: 52.97% | Test Loss: 0.659 | Test Acc: 61.80%\n",
      "  Epoch 14 | Train Loss: 0.604 | Train Acc: 52.98% | Test Loss: 0.690 | Test Acc: 54.38%\n",
      "  Epoch 15 | Train Loss: 0.602 | Train Acc: 53.55% | Test Loss: 0.678 | Test Acc: 58.10%\n",
      "\n",
      "Outer Fold 2/3:\n",
      "  Inner Fold 1/3:\n",
      "    Grid Search: lr = 0.01 ... Done.\n",
      "                 lr = 0.03 ... Done.\n",
      "                 lr = 0.1 ... Done.\n",
      "  Inner Fold 2/3:\n",
      "    Grid Search: lr = 0.01 ... Done.\n",
      "                 lr = 0.03 ... Done.\n",
      "                 lr = 0.1 ... Done.\n",
      "  Inner Fold 3/3:\n",
      "    Grid Search: lr = 0.01 ... Done.\n",
      "                 lr = 0.03 ... Done.\n",
      "                 lr = 0.1 ... Done.\n",
      "  Best Learning Rate: lr = 0.01\n",
      "  Epoch 01 | Train Loss: 0.626 | Train Acc: 45.85% | Test Loss: 0.698 | Test Acc: 48.06%\n",
      "  Epoch 02 | Train Loss: 0.623 | Train Acc: 46.93% | Test Loss: 0.700 | Test Acc: 47.52%\n",
      "  Epoch 03 | Train Loss: 0.622 | Train Acc: 47.60% | Test Loss: 0.700 | Test Acc: 47.63%\n",
      "  Epoch 04 | Train Loss: 0.621 | Train Acc: 47.68% | Test Loss: 0.700 | Test Acc: 47.61%\n",
      "  Epoch 05 | Train Loss: 0.620 | Train Acc: 48.44% | Test Loss: 0.702 | Test Acc: 47.56%\n",
      "  Epoch 06 | Train Loss: 0.619 | Train Acc: 48.50% | Test Loss: 0.702 | Test Acc: 47.84%\n",
      "  Epoch 07 | Train Loss: 0.619 | Train Acc: 48.77% | Test Loss: 0.703 | Test Acc: 46.99%\n",
      "  Epoch 08 | Train Loss: 0.617 | Train Acc: 49.03% | Test Loss: 0.704 | Test Acc: 46.81%\n",
      "  Epoch 09 | Train Loss: 0.617 | Train Acc: 49.24% | Test Loss: 0.704 | Test Acc: 46.35%\n",
      "  Epoch 10 | Train Loss: 0.617 | Train Acc: 49.40% | Test Loss: 0.707 | Test Acc: 46.59%\n",
      "  Epoch 11 | Train Loss: 0.616 | Train Acc: 49.74% | Test Loss: 0.711 | Test Acc: 45.71%\n",
      "  Epoch 12 | Train Loss: 0.615 | Train Acc: 49.88% | Test Loss: 0.716 | Test Acc: 45.17%\n",
      "  Epoch 13 | Train Loss: 0.613 | Train Acc: 50.22% | Test Loss: 0.726 | Test Acc: 43.55%\n",
      "  Epoch 14 | Train Loss: 0.612 | Train Acc: 51.15% | Test Loss: 0.758 | Test Acc: 41.35%\n",
      "  Epoch 15 | Train Loss: 0.609 | Train Acc: 51.62% | Test Loss: 0.761 | Test Acc: 44.50%\n",
      "\n",
      "Outer Fold 3/3:\n",
      "  Inner Fold 1/3:\n",
      "    Grid Search: lr = 0.01 ... Done.\n",
      "                 lr = 0.03 ... Done.\n",
      "                 lr = 0.1 ... Done.\n",
      "  Inner Fold 2/3:\n",
      "    Grid Search: lr = 0.01 ... Done.\n",
      "                 lr = 0.03 ... Done.\n",
      "                 lr = 0.1 ... Done.\n",
      "  Inner Fold 3/3:\n",
      "    Grid Search: lr = 0.01 ... Done.\n",
      "                 lr = 0.03 ... Done.\n",
      "                 lr = 0.1 ... Done.\n",
      "  Best Learning Rate: lr = 0.01\n",
      "  Epoch 01 | Train Loss: 0.626 | Train Acc: 46.14% | Test Loss: 0.698 | Test Acc: 48.65%\n",
      "  Epoch 02 | Train Loss: 0.624 | Train Acc: 46.97% | Test Loss: 0.699 | Test Acc: 48.49%\n",
      "  Epoch 03 | Train Loss: 0.622 | Train Acc: 47.19% | Test Loss: 0.701 | Test Acc: 47.64%\n",
      "  Epoch 04 | Train Loss: 0.622 | Train Acc: 47.65% | Test Loss: 0.701 | Test Acc: 47.91%\n",
      "  Epoch 05 | Train Loss: 0.621 | Train Acc: 47.72% | Test Loss: 0.702 | Test Acc: 47.06%\n",
      "  Epoch 06 | Train Loss: 0.621 | Train Acc: 47.92% | Test Loss: 0.702 | Test Acc: 46.86%\n",
      "  Epoch 07 | Train Loss: 0.619 | Train Acc: 48.62% | Test Loss: 0.704 | Test Acc: 45.71%\n",
      "  Epoch 08 | Train Loss: 0.619 | Train Acc: 48.35% | Test Loss: 0.705 | Test Acc: 46.84%\n",
      "  Epoch 09 | Train Loss: 0.618 | Train Acc: 48.87% | Test Loss: 0.707 | Test Acc: 46.54%\n",
      "  Epoch 10 | Train Loss: 0.619 | Train Acc: 48.47% | Test Loss: 0.708 | Test Acc: 44.74%\n",
      "  Epoch 11 | Train Loss: 0.618 | Train Acc: 49.13% | Test Loss: 0.710 | Test Acc: 44.42%\n",
      "  Epoch 12 | Train Loss: 0.616 | Train Acc: 49.34% | Test Loss: 0.716 | Test Acc: 44.36%\n",
      "  Epoch 13 | Train Loss: 0.615 | Train Acc: 49.98% | Test Loss: 0.728 | Test Acc: 42.43%\n",
      "  Epoch 14 | Train Loss: 0.614 | Train Acc: 50.57% | Test Loss: 0.770 | Test Acc: 41.77%\n",
      "  Epoch 15 | Train Loss: 0.611 | Train Acc: 51.32% | Test Loss: 0.731 | Test Acc: 45.79%\n",
      "\n",
      "Mean Test Loss: 0.723\n",
      "Mean Test Acc: 49.46%\n",
      "Training time: 2544.277s\n"
     ]
    }
   ],
   "source": [
    "cross_validate(torch_dataset=imdb,\n",
    "               outer_kfold=KFold(n_splits=3, shuffle=True, random_state=0),\n",
    "               num_outer_epochs=15,\n",
    "               inner_kfold=KFold(n_splits=3, shuffle=True, random_state=0),\n",
    "               num_inner_epochs=8,\n",
    "               criterion=nn.BCEWithLogitsLoss(),\n",
    "               batch_size=64,\n",
    "               lr_params=[0.01,0.03,0.1],\n",
    "               device=torch.device('cuda:0' if torch.cuda.is_available() else 'cpu'),\n",
    "               nested=True)"
   ]
  },
  {
   "cell_type": "markdown",
   "metadata": {},
   "source": [
    "Here we see that the mean test accuracy is much lower than without using nested CV. While the first outer fold performed fairly well, the second and third folds did not. Nested CV was able to give a better, less biased evaluation of our model than with a train/val/test split, though at the expense of a much longer computation time. 3 folds is also less than ideal, as 5 or 10 folds are generally preferred. The number of folds and epochs were only chosen to achieve a realistic computation time, as this project is primarily a proof of concept.\n",
    "\n",
    "Now that we know the RNN model needs to be improved, we'll explore using an LSTM model in the next section."
   ]
  }
 ],
 "metadata": {
  "kernelspec": {
   "display_name": "Python 3",
   "language": "python",
   "name": "python3"
  },
  "language_info": {
   "codemirror_mode": {
    "name": "ipython",
    "version": 3
   },
   "file_extension": ".py",
   "mimetype": "text/x-python",
   "name": "python",
   "nbconvert_exporter": "python",
   "pygments_lexer": "ipython3",
   "version": "3.7.6"
  }
 },
 "nbformat": 4,
 "nbformat_minor": 2
}